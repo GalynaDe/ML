{
 "cells": [
  {
   "cell_type": "code",
   "execution_count": 1,
   "id": "6a856783",
   "metadata": {},
   "outputs": [],
   "source": [
    "import numpy as np"
   ]
  },
  {
   "cell_type": "code",
   "execution_count": 2,
   "id": "86f1a7da",
   "metadata": {},
   "outputs": [],
   "source": [
    "x = [6, 12, 13, 17, 22, 25, 27, 29, 30, 32]\n",
    "y = [45, 47, 39, 58, 68, 76, 75, 74, 78, 81]"
   ]
  },
  {
   "cell_type": "code",
   "execution_count": 4,
   "id": "27da8703",
   "metadata": {},
   "outputs": [],
   "source": [
    "n_x = len(x)\n",
    "n_y = len(y)"
   ]
  },
  {
   "cell_type": "code",
   "execution_count": 5,
   "id": "ca1b2a05",
   "metadata": {},
   "outputs": [
    {
     "data": {
      "text/plain": [
       "(10, 10)"
      ]
     },
     "execution_count": 5,
     "metadata": {},
     "output_type": "execute_result"
    }
   ],
   "source": [
    "n_x,n_y"
   ]
  },
  {
   "cell_type": "markdown",
   "id": "c02a1330",
   "metadata": {},
   "source": [
    "### Міри центральної тенденції"
   ]
  },
  {
   "cell_type": "code",
   "execution_count": 6,
   "id": "fb12fc05",
   "metadata": {},
   "outputs": [
    {
     "data": {
      "text/plain": [
       "21.3"
      ]
     },
     "execution_count": 6,
     "metadata": {},
     "output_type": "execute_result"
    }
   ],
   "source": [
    "mean_x = sum(x)/n_x\n",
    "mean_x"
   ]
  },
  {
   "cell_type": "code",
   "execution_count": 7,
   "id": "2020d4c6",
   "metadata": {},
   "outputs": [
    {
     "data": {
      "text/plain": [
       "64.1"
      ]
     },
     "execution_count": 7,
     "metadata": {},
     "output_type": "execute_result"
    }
   ],
   "source": [
    "mean_y = sum(y)/n_y\n",
    "mean_y"
   ]
  },
  {
   "cell_type": "code",
   "execution_count": 8,
   "id": "281b998c",
   "metadata": {},
   "outputs": [
    {
     "data": {
      "text/plain": [
       "[6, 12, 13, 17, 22, 25, 27, 29, 30, 32]"
      ]
     },
     "execution_count": 8,
     "metadata": {},
     "output_type": "execute_result"
    }
   ],
   "source": [
    "sorted(x)"
   ]
  },
  {
   "cell_type": "code",
   "execution_count": 9,
   "id": "e174df5d",
   "metadata": {},
   "outputs": [
    {
     "data": {
      "text/plain": [
       "(4, 5)"
      ]
     },
     "execution_count": 9,
     "metadata": {},
     "output_type": "execute_result"
    }
   ],
   "source": [
    "len(x)//2 - 1, len(x)//2"
   ]
  },
  {
   "cell_type": "code",
   "execution_count": 15,
   "id": "937436b4",
   "metadata": {},
   "outputs": [
    {
     "data": {
      "text/plain": [
       "23.5"
      ]
     },
     "execution_count": 15,
     "metadata": {},
     "output_type": "execute_result"
    }
   ],
   "source": [
    "(sorted(x)[len(x)//2-1] + sorted(x)[len(x)//2])/2"
   ]
  },
  {
   "cell_type": "code",
   "execution_count": 20,
   "id": "11a6c2a3",
   "metadata": {},
   "outputs": [
    {
     "data": {
      "text/plain": [
       "[39, 45, 47, 58, 68, 74, 75, 76, 78, 81]"
      ]
     },
     "execution_count": 20,
     "metadata": {},
     "output_type": "execute_result"
    }
   ],
   "source": [
    "aa=sorted(y)\n",
    "aa"
   ]
  },
  {
   "cell_type": "code",
   "execution_count": 25,
   "id": "50838be8",
   "metadata": {},
   "outputs": [
    {
     "data": {
      "text/plain": [
       "71.0"
      ]
     },
     "execution_count": 25,
     "metadata": {},
     "output_type": "execute_result"
    }
   ],
   "source": [
    "(aa[len(y)//2-1] + aa[len(y)//2]) / 2"
   ]
  },
  {
   "cell_type": "code",
   "execution_count": 18,
   "id": "f23d9644",
   "metadata": {},
   "outputs": [
    {
     "data": {
      "text/plain": [
       "(23.5, 71.0)"
      ]
     },
     "execution_count": 18,
     "metadata": {},
     "output_type": "execute_result"
    }
   ],
   "source": [
    "np.median(x), np.median(y)"
   ]
  },
  {
   "cell_type": "code",
   "execution_count": 26,
   "id": "3ea2b5cd",
   "metadata": {},
   "outputs": [],
   "source": [
    "sample = [1]*99 + [1000]"
   ]
  },
  {
   "cell_type": "code",
   "execution_count": 27,
   "id": "cafacec9",
   "metadata": {},
   "outputs": [
    {
     "name": "stdout",
     "output_type": "stream",
     "text": [
      "[1, 1, 1, 1, 1, 1, 1, 1, 1, 1, 1, 1, 1, 1, 1, 1, 1, 1, 1, 1, 1, 1, 1, 1, 1, 1, 1, 1, 1, 1, 1, 1, 1, 1, 1, 1, 1, 1, 1, 1, 1, 1, 1, 1, 1, 1, 1, 1, 1, 1, 1, 1, 1, 1, 1, 1, 1, 1, 1, 1, 1, 1, 1, 1, 1, 1, 1, 1, 1, 1, 1, 1, 1, 1, 1, 1, 1, 1, 1, 1, 1, 1, 1, 1, 1, 1, 1, 1, 1, 1, 1, 1, 1, 1, 1, 1, 1, 1, 1, 1000]\n"
     ]
    }
   ],
   "source": [
    "print(sample)"
   ]
  },
  {
   "cell_type": "code",
   "execution_count": 28,
   "id": "beadf202",
   "metadata": {},
   "outputs": [
    {
     "data": {
      "text/plain": [
       "10.99"
      ]
     },
     "execution_count": 28,
     "metadata": {},
     "output_type": "execute_result"
    }
   ],
   "source": [
    "np.mean(sample)"
   ]
  },
  {
   "cell_type": "code",
   "execution_count": 29,
   "id": "6fd6323d",
   "metadata": {},
   "outputs": [
    {
     "data": {
      "text/plain": [
       "1.0"
      ]
     },
     "execution_count": 29,
     "metadata": {},
     "output_type": "execute_result"
    }
   ],
   "source": [
    "np.median(sample)"
   ]
  },
  {
   "cell_type": "code",
   "execution_count": 30,
   "id": "f0b5e810",
   "metadata": {},
   "outputs": [
    {
     "data": {
      "text/plain": [
       "[234.09000000000003,\n",
       " 86.49000000000001,\n",
       " 68.89000000000001,\n",
       " 18.490000000000006,\n",
       " 0.489999999999999,\n",
       " 13.689999999999994,\n",
       " 32.489999999999995,\n",
       " 59.28999999999999,\n",
       " 75.68999999999998,\n",
       " 114.48999999999998]"
      ]
     },
     "execution_count": 30,
     "metadata": {},
     "output_type": "execute_result"
    }
   ],
   "source": [
    "x_minus_mean = [(el - mean_x)**2 for el in x]\n",
    "x_minus_mean"
   ]
  },
  {
   "cell_type": "code",
   "execution_count": 31,
   "id": "97f88519",
   "metadata": {},
   "outputs": [],
   "source": [
    "var_x_general = sum(x_minus_mean)/len(x)\n",
    "var_x_sample = sum(x_minus_mean)/(len(x)-1)"
   ]
  },
  {
   "cell_type": "code",
   "execution_count": 32,
   "id": "e7f83a95",
   "metadata": {},
   "outputs": [
    {
     "data": {
      "text/plain": [
       "(70.41, 78.23333333333333)"
      ]
     },
     "execution_count": 32,
     "metadata": {},
     "output_type": "execute_result"
    }
   ],
   "source": [
    "var_x_general, var_x_sample"
   ]
  },
  {
   "cell_type": "code",
   "execution_count": 33,
   "id": "db3040f6",
   "metadata": {},
   "outputs": [
    {
     "data": {
      "text/plain": [
       "(70.41, 78.23333333333333)"
      ]
     },
     "execution_count": 33,
     "metadata": {},
     "output_type": "execute_result"
    }
   ],
   "source": [
    "np.var(x), np.var(x, ddof=1)"
   ]
  },
  {
   "cell_type": "code",
   "execution_count": 43,
   "id": "8cb21549",
   "metadata": {},
   "outputs": [
    {
     "data": {
      "text/plain": [
       "8.844960900610772"
      ]
     },
     "execution_count": 43,
     "metadata": {},
     "output_type": "execute_result"
    }
   ],
   "source": [
    "x_minus_mean = [(el - mean_x)**2 for el in x]\n",
    "std_x_sample = np.sqrt(sum(x_minus_mean)/(len(x)-1))\n",
    "std_x_sample"
   ]
  },
  {
   "cell_type": "code",
   "execution_count": 44,
   "id": "08623437",
   "metadata": {},
   "outputs": [
    {
     "data": {
      "text/plain": [
       "15.552420318965721"
      ]
     },
     "execution_count": 44,
     "metadata": {},
     "output_type": "execute_result"
    }
   ],
   "source": [
    "y_minus_mean = [(el - mean_y)**2 for el in y]\n",
    "std_y_sample = np.sqrt(sum(y_minus_mean)/(len(y)-1))\n",
    "std_y_sample"
   ]
  },
  {
   "cell_type": "code",
   "execution_count": 35,
   "id": "85e53953",
   "metadata": {},
   "outputs": [
    {
     "data": {
      "image/png": "[encoded data removed]",
      "text/plain": [
       "<Figure size 432x288 with 1 Axes>"
      ]
     },
     "metadata": {
      "needs_background": "light"
     },
     "output_type": "display_data"
    }
   ],
   "source": [
    "import matplotlib.pyplot as plt\n",
    "plt.plot(x, y, 'o');"
   ]
  },
  {
   "cell_type": "code",
   "execution_count": 36,
   "id": "3c308c7b",
   "metadata": {},
   "outputs": [],
   "source": [
    "xy = [ (x[i] - mean_x)*(y[i] - mean_y) for i in range(len(x))]\n",
    "\n",
    "cov_xy = sum(xy)/(len(x)-1)"
   ]
  },
  {
   "cell_type": "code",
   "execution_count": 41,
   "id": "cfec40ae",
   "metadata": {},
   "outputs": [
    {
     "data": {
      "text/plain": [
       "130.3"
      ]
     },
     "execution_count": 41,
     "metadata": {},
     "output_type": "execute_result"
    }
   ],
   "source": [
    "cov_xy"
   ]
  },
  {
   "cell_type": "code",
   "execution_count": 38,
   "id": "39e1222c",
   "metadata": {},
   "outputs": [
    {
     "data": {
      "text/plain": [
       "78.23333333333333"
      ]
     },
     "execution_count": 38,
     "metadata": {},
     "output_type": "execute_result"
    }
   ],
   "source": [
    "np.var(x, ddof=1)"
   ]
  },
  {
   "cell_type": "code",
   "execution_count": 39,
   "id": "68301867",
   "metadata": {},
   "outputs": [
    {
     "data": {
      "text/plain": [
       "array([[ 78.23333333, 130.3       ],\n",
       "       [130.3       , 241.87777778]])"
      ]
     },
     "execution_count": 39,
     "metadata": {},
     "output_type": "execute_result"
    }
   ],
   "source": [
    "np.cov(x,y)"
   ]
  },
  {
   "cell_type": "code",
   "execution_count": 45,
   "id": "aced75e7",
   "metadata": {
    "scrolled": true
   },
   "outputs": [
    {
     "data": {
      "text/plain": [
       "0.9472192452662753"
      ]
     },
     "execution_count": 45,
     "metadata": {},
     "output_type": "execute_result"
    }
   ],
   "source": [
    "cov_xy /(std_x_sample * std_y_sample)"
   ]
  },
  {
   "cell_type": "code",
   "execution_count": 46,
   "id": "bcc43993",
   "metadata": {},
   "outputs": [
    {
     "data": {
      "text/plain": [
       "array([[1.        , 0.94721925],\n",
       "       [0.94721925, 1.        ]])"
      ]
     },
     "execution_count": 46,
     "metadata": {},
     "output_type": "execute_result"
    }
   ],
   "source": [
    "np.corrcoef(x,y)"
   ]
  },
  {
   "cell_type": "code",
   "execution_count": null,
   "id": "0783d2ae",
   "metadata": {},
   "outputs": [],
   "source": []
  }
 ],
 "metadata": {
  "kernelspec": {
   "display_name": "Python 3 (ipykernel)",
   "language": "python",
   "name": "python3"
  },
  "language_info": {
   "codemirror_mode": {
    "name": "ipython",
    "version": 3
   },
   "file_extension": ".py",
   "mimetype": "text/x-python",
   "name": "python",
   "nbconvert_exporter": "python",
   "pygments_lexer": "ipython3",
   "version": "3.10.4"
  }
 },
 "nbformat": 4,
 "nbformat_minor": 5
}
