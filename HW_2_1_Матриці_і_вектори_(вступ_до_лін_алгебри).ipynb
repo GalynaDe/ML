{
  "nbformat": 4,
  "nbformat_minor": 0,
  "metadata": {
    "colab": {
      "provenance": [],
      "toc_visible": true,
      "include_colab_link": true
    },
    "kernelspec": {
      "name": "python3",
      "display_name": "Python 3"
    },
    "language_info": {
      "name": "python"
    }
  },
  "cells": [
    {
      "cell_type": "markdown",
      "metadata": {
        "id": "view-in-github",
        "colab_type": "text"
      },
      "source": [
        "<a href=\"https://colab.research.google.com/github/GalynaDe/ML/blob/main/HW_2_1_%D0%9C%D0%B0%D1%82%D1%80%D0%B8%D1%86%D1%96_%D1%96_%D0%B2%D0%B5%D0%BA%D1%82%D0%BE%D1%80%D0%B8_(%D0%B2%D1%81%D1%82%D1%83%D0%BF_%D0%B4%D0%BE_%D0%BB%D1%96%D0%BD_%D0%B0%D0%BB%D0%B3%D0%B5%D0%B1%D1%80%D0%B8).ipynb\" target=\"_parent\"><img src=\"https://colab.research.google.com/assets/colab-badge.svg\" alt=\"Open In Colab\"/></a>"
      ]
    },
    {
      "cell_type": "markdown",
      "source": [
        "### Завдання 1: Створення матриць та векторів\n",
        "1. Створіть `numpy` вектор `vector` розмірністю 10 з випадковими дійсними значеннями в діапазоні від 0 до 1. Можна скористатись двома альтернативними варіантами:\n",
        "  1. Генерація випадкових чисел з модулем [`random.uniform`](https://docs.python.org/3/library/random.html).\n",
        "  2. Створення вектора з допомогою метода `numpy` [np.random.rand](https://numpy.org/doc/stable/reference/random/generated/numpy.random.rand.html)\n",
        "\n",
        "2. Створіть матрицю `matrix` типу `numpy.array` розмірності 3x3 з наступними значеннями\n",
        "\n",
        "  $$\n",
        "  matrix = \\begin{bmatrix}\n",
        "  11 & 14 & 17 \\\\\n",
        "  20 & 23 & 26 \\\\\n",
        "  29 & 32 & 35\n",
        "  \\end{bmatrix}\n",
        "  $$\n",
        "\n",
        "  будь-яким відомими Вам способом.\n",
        "\n",
        "Виведіть на екран вектор і матрицю, а також їх розміри.\n"
      ],
      "metadata": {
        "id": "efug1V4CM0lT"
      }
    },
    {
      "cell_type": "code",
      "source": [
        "import numpy as np\n",
        "vector = np.random.rand(10)\n",
        "print(vector)\n",
        "print(vector.reshape(-1, 1))\n"
      ],
      "metadata": {
        "id": "jxA_lG2_VIMe",
        "colab": {
          "base_uri": "https://localhost:8080/"
        },
        "outputId": "1e189cd2-a9f8-40a4-f50f-a38d72f0021c"
      },
      "execution_count": null,
      "outputs": [
        {
          "output_type": "stream",
          "name": "stdout",
          "text": [
            "[0.54118749 0.24806281 0.18062174 0.22628503 0.360252   0.8225752\n",
            " 0.81835618 0.05487722 0.26468894 0.40135876]\n",
            "[[0.54118749]\n",
            " [0.24806281]\n",
            " [0.18062174]\n",
            " [0.22628503]\n",
            " [0.360252  ]\n",
            " [0.8225752 ]\n",
            " [0.81835618]\n",
            " [0.05487722]\n",
            " [0.26468894]\n",
            " [0.40135876]]\n"
          ]
        }
      ]
    },
    {
      "cell_type": "code",
      "source": [
        "print(\"Вектор:\")\n",
        "print(vector.reshape(-1, 1))\n",
        "print(\"\\nРозмір вектора:\", vector.shape)"
      ],
      "metadata": {
        "colab": {
          "base_uri": "https://localhost:8080/"
        },
        "id": "I5RKtTIq4Yhj",
        "outputId": "e167b5c1-ea7e-431d-e5fe-51ef6a48ec8a"
      },
      "execution_count": null,
      "outputs": [
        {
          "output_type": "stream",
          "name": "stdout",
          "text": [
            "Вектор:\n",
            "[[0.54118749]\n",
            " [0.24806281]\n",
            " [0.18062174]\n",
            " [0.22628503]\n",
            " [0.360252  ]\n",
            " [0.8225752 ]\n",
            " [0.81835618]\n",
            " [0.05487722]\n",
            " [0.26468894]\n",
            " [0.40135876]]\n",
            "\n",
            "Розмір вектора: (10,)\n"
          ]
        }
      ]
    },
    {
      "cell_type": "code",
      "source": [
        "matrix = np.array([[11, 14, 17], [20, 23, 26], [29, 32, 35]])\n",
        "print(\"\\nМатриця:\")\n",
        "print(matrix)\n",
        "print(\"\\nРозмір матриці:\", matrix.shape)"
      ],
      "metadata": {
        "colab": {
          "base_uri": "https://localhost:8080/"
        },
        "id": "_FqDPPo341yb",
        "outputId": "b66bfe70-310e-48aa-b592-be3dc8531844"
      },
      "execution_count": null,
      "outputs": [
        {
          "output_type": "stream",
          "name": "stdout",
          "text": [
            "\n",
            "Матриця:\n",
            "[[11 14 17]\n",
            " [20 23 26]\n",
            " [29 32 35]]\n",
            "\n",
            "Розмір матриці: (3, 3)\n"
          ]
        }
      ]
    },
    {
      "cell_type": "markdown",
      "source": [
        "\n",
        "### Завдання 2: Операції над векторами та матрицями\n",
        "Виконайте кожну з зазначених операцій над зазначеними оʼєктами і виведіть результат на екран:\n",
        "1. Додайте до кожного значення вектора `vector` число 10 і округліть кожне значення до 2 знаків після коми без використання циклів.\n",
        "2. Помножте кожен елемент матриці з першого завдання на 2 без використання циклів.\n",
        "3. Створіть новий вектор, який містить квадрат кожного `vector` без циклів.\n"
      ],
      "metadata": {
        "id": "TSJ1P4OuOVe2"
      }
    },
    {
      "cell_type": "code",
      "source": [
        "vector_plus_10 = np.round(vector + 10, 2)\n",
        "matrix_times_2 = matrix *2\n",
        "vector_squared = np.square(vector)\n",
        "print(\"Вектор з додаванням 10 і округленням до 2 знаків після коми:\")\n",
        "print(vector_plus_10.reshape(-1, 1))\n",
        "print(\"\\nМатриця, помножена на 2:\")\n",
        "print(matrix_times_2)\n",
        "print(\"\\nВектор, що містить квадрат кожного значення:\")\n",
        "print(vector_squared.reshape(-1, 1))"
      ],
      "metadata": {
        "id": "nAAojtyUVJXN",
        "colab": {
          "base_uri": "https://localhost:8080/"
        },
        "outputId": "7f881d4a-6ea4-4ee2-b2a2-8adfba73afe6"
      },
      "execution_count": null,
      "outputs": [
        {
          "output_type": "stream",
          "name": "stdout",
          "text": [
            "Вектор з додаванням 10 і округленням до 2 знаків після коми:\n",
            "[[10.54]\n",
            " [10.25]\n",
            " [10.18]\n",
            " [10.23]\n",
            " [10.36]\n",
            " [10.82]\n",
            " [10.82]\n",
            " [10.05]\n",
            " [10.26]\n",
            " [10.4 ]]\n",
            "\n",
            "Матриця, помножена на 2:\n",
            "[[22 28 34]\n",
            " [40 46 52]\n",
            " [58 64 70]]\n",
            "\n",
            "Вектор, що містить квадрат кожного значення:\n",
            "[[0.2928839 ]\n",
            " [0.06153516]\n",
            " [0.03262421]\n",
            " [0.05120491]\n",
            " [0.1297815 ]\n",
            " [0.67662996]\n",
            " [0.66970684]\n",
            " [0.00301151]\n",
            " [0.07006024]\n",
            " [0.16108885]]\n"
          ]
        }
      ]
    },
    {
      "cell_type": "markdown",
      "source": [
        "\n",
        "### Завдання 3: Множення матриць\n",
        "1. Задані дві матриці `A` і `B`розмірностями 3x2 та 2х3. Виконайте їхнє множення, щоб отримати матрицю 2x2. Виведіть результуючу матрицю `result_matrix` на екран.\n",
        "\n",
        "2. Заданий вектор `C` розмірністю 2х1. Подумайте спочатку, яку розмірність Ви отрмаєте, коли домножите `result_matrix` на вектор `C` і який результат буде. А потім виконайте множення і виведіть результат на екран.\n",
        "\n",
        "3. Задана матриця `D` розмірністю 2х2. Подумайте спочатку, яку розмірність Ви отрмаєте, коли домножите `result_matrix` на матрицю `D` і який результат буде. А потім виконайте множення і виведіть результат на екран."
      ],
      "metadata": {
        "id": "u6RvWVfhPy-k"
      }
    },
    {
      "cell_type": "code",
      "source": [
        "A = np.array(\n",
        "    [[0.18, 0.53],\n",
        "     [0.75, 0.47],\n",
        "     [0.35, 0.21]])\n",
        "\n",
        "B = np.array(\n",
        "    [[0.17, 0.58, 0.75],\n",
        "     [0.38, 0.11, 0.15]])\n",
        "\n",
        "C = np.array([[0], [1]])\n",
        "\n",
        "D = np.array([[0,1], [1,0]])\n",
        "\n",
        "display(A, B, C, D)"
      ],
      "metadata": {
        "id": "RwXfPzlbSJ44",
        "colab": {
          "base_uri": "https://localhost:8080/",
          "height": 177
        },
        "outputId": "da8bbbeb-7ff5-4cf1-d62a-167561409dc6"
      },
      "execution_count": null,
      "outputs": [
        {
          "output_type": "display_data",
          "data": {
            "text/plain": [
              "array([[0.18, 0.53],\n",
              "       [0.75, 0.47],\n",
              "       [0.35, 0.21]])"
            ]
          },
          "metadata": {}
        },
        {
          "output_type": "display_data",
          "data": {
            "text/plain": [
              "array([[0.17, 0.58, 0.75],\n",
              "       [0.38, 0.11, 0.15]])"
            ]
          },
          "metadata": {}
        },
        {
          "output_type": "display_data",
          "data": {
            "text/plain": [
              "array([[0],\n",
              "       [1]])"
            ]
          },
          "metadata": {}
        },
        {
          "output_type": "display_data",
          "data": {
            "text/plain": [
              "array([[0, 1],\n",
              "       [1, 0]])"
            ]
          },
          "metadata": {}
        }
      ]
    },
    {
      "cell_type": "markdown",
      "source": [
        "1."
      ],
      "metadata": {
        "id": "GK1sSppa8XwV"
      }
    },
    {
      "cell_type": "code",
      "source": [
        "result_matrix = np.dot(A, B)\n",
        "print(\"Результуюча матриця:\")\n",
        "print(result_matrix)"
      ],
      "metadata": {
        "id": "z7-boTbhVKkj",
        "colab": {
          "base_uri": "https://localhost:8080/"
        },
        "outputId": "61ee477b-362a-49ca-92f8-bb3b36a72f2a"
      },
      "execution_count": null,
      "outputs": [
        {
          "output_type": "stream",
          "name": "stdout",
          "text": [
            "Результуюча матриця:\n",
            "[[0.232  0.1627 0.2145]\n",
            " [0.3061 0.4867 0.633 ]\n",
            " [0.1393 0.2261 0.294 ]]\n"
          ]
        }
      ]
    },
    {
      "cell_type": "markdown",
      "source": [
        "Для того щоб отримати матрицю розмірністю 2x2, потрібно змінити розміри вихідних матриць:"
      ],
      "metadata": {
        "id": "SrbOvw1q7Ecn"
      }
    },
    {
      "cell_type": "code",
      "source": [
        "A = np.array([[0.18, 0.53], [0.75, 0.47]])\n",
        "B = np.array([[0.17, 0.58], [0.38, 0.11]])\n",
        "result_matrix = np.dot(A, B)\n",
        "print(result_matrix)"
      ],
      "metadata": {
        "colab": {
          "base_uri": "https://localhost:8080/"
        },
        "id": "F5wT1Sd57Q8R",
        "outputId": "f87b905f-20c0-4398-963a-27bacf33a149"
      },
      "execution_count": null,
      "outputs": [
        {
          "output_type": "stream",
          "name": "stdout",
          "text": [
            "[[0.232  0.1627]\n",
            " [0.3061 0.4867]]\n"
          ]
        }
      ]
    },
    {
      "cell_type": "markdown",
      "source": [
        "2.при множенні матриці result_matrix розміром 2x2 на вектор C розміром 2x1. Результуюча матриця буде мати розмір 2x1."
      ],
      "metadata": {
        "id": "4MK4z9cG8SIt"
      }
    },
    {
      "cell_type": "code",
      "source": [
        "result_matrix = np.dot(A, B)\n",
        "result_vector = np.dot(result_matrix, C)\n",
        "print(\"Результуючий вектор:\")\n",
        "print(result_vector)\n"
      ],
      "metadata": {
        "colab": {
          "base_uri": "https://localhost:8080/"
        },
        "id": "Wbwi14ya8dGh",
        "outputId": "700c6224-83ce-4ce3-bf37-ff8643d04faf"
      },
      "execution_count": null,
      "outputs": [
        {
          "output_type": "stream",
          "name": "stdout",
          "text": [
            "Результуючий вектор:\n",
            "[[0.1627]\n",
            " [0.4867]]\n"
          ]
        }
      ]
    },
    {
      "cell_type": "markdown",
      "source": [
        "3.При множенні матриці result_matrix розміром 2x2 на матрицю D розміром 2x2 результуюча матриця буде мати розмір 2x2."
      ],
      "metadata": {
        "id": "225Y7J2Y9MBK"
      }
    },
    {
      "cell_type": "code",
      "source": [
        "final_result = np.dot(result_matrix, D)\n",
        "print(\"Результуюча матриця:\")\n",
        "print(final_result)"
      ],
      "metadata": {
        "colab": {
          "base_uri": "https://localhost:8080/"
        },
        "id": "dqEgMRav9Umf",
        "outputId": "a3931b1b-176e-4233-cee1-57ecfce3684a"
      },
      "execution_count": null,
      "outputs": [
        {
          "output_type": "stream",
          "name": "stdout",
          "text": [
            "Результуюча матриця:\n",
            "[[0.1627 0.232 ]\n",
            " [0.4867 0.3061]]\n"
          ]
        }
      ]
    },
    {
      "cell_type": "markdown",
      "source": [
        "\n",
        "### Завдання 4: Транспонування матриць\n",
        "1. Транспонуйте `result_matrix`.\n",
        "2. Зробіть транспонування вектора `vector` і виведіть форму нової структури. Чи бачите ви зміну?\n",
        "3. Використайте операцію `numpy.expand_dims` над вектором `vector` з аргументом axis=1. Запишіть отриманий результат в змінну `column_vector` і виведіть на екран. Порівняйте з `vector`.\n",
        "4. Зробіть транспонування `column_vector`, виведіть результат на екран разом з розмірностями отриманої структури.\n",
        "\n",
        "\n"
      ],
      "metadata": {
        "id": "wohp0_cxSGpl"
      }
    },
    {
      "cell_type": "code",
      "source": [
        "transposed_matrix = np.transpose(result_matrix)\n",
        "print(\"Транспонована матриця:\")\n",
        "print(transposed_matrix)"
      ],
      "metadata": {
        "id": "4hFcq1baVLii",
        "colab": {
          "base_uri": "https://localhost:8080/"
        },
        "outputId": "800f8de1-6472-4d05-b0de-933095b1bd63"
      },
      "execution_count": null,
      "outputs": [
        {
          "output_type": "stream",
          "name": "stdout",
          "text": [
            "Транспонована матриця:\n",
            "[[0.232  0.3061]\n",
            " [0.1627 0.4867]]\n"
          ]
        }
      ]
    },
    {
      "cell_type": "code",
      "source": [
        "vector = np.random.rand(10)\n",
        "transposed_vector = vector.reshape(1, -1)\n",
        "print(\"Транспонований вектор:\")\n",
        "print(transposed_vector)\n",
        "print(\"\\nФорма транспонованого вектора:\", transposed_vector.shape)"
      ],
      "metadata": {
        "colab": {
          "base_uri": "https://localhost:8080/"
        },
        "id": "rv3yAOfq-Ymu",
        "outputId": "33e45e53-0a13-4692-ddea-c41f6ff9a238"
      },
      "execution_count": null,
      "outputs": [
        {
          "output_type": "stream",
          "name": "stdout",
          "text": [
            "Транспонований вектор:\n",
            "[[0.81085178 0.29118046 0.94022156 0.23134679 0.61506845 0.03805719\n",
            "  0.16199842 0.68312165 0.42457115 0.98036678]]\n",
            "\n",
            "Форма транспонованого вектора: (1, 10)\n"
          ]
        }
      ]
    },
    {
      "cell_type": "markdown",
      "source": [
        "Висновок: форма змінилася з (10,) на (1, 10), що означає, що вектор тепер представлений як рядок"
      ],
      "metadata": {
        "id": "lQBui3kq-vtU"
      }
    },
    {
      "cell_type": "code",
      "source": [
        "column_vector = np.expand_dims(vector, axis=1)\n",
        "print(\"Початковий вектор:\")\n",
        "print(vector)\n",
        "print(\"\\nФорма початкового вектора:\", vector.shape)\n",
        "print(\"\\nВектор після використання numpy.expand_dims:\")\n",
        "print(column_vector)\n",
        "print(\"\\nФорма вектора після використання numpy.expand_dims:\", column_vector.shape)"
      ],
      "metadata": {
        "colab": {
          "base_uri": "https://localhost:8080/"
        },
        "id": "vb2eU9UH-1we",
        "outputId": "959925fe-68f5-4218-ea94-220546a54619"
      },
      "execution_count": null,
      "outputs": [
        {
          "output_type": "stream",
          "name": "stdout",
          "text": [
            "Початковий вектор:\n",
            "[0.81085178 0.29118046 0.94022156 0.23134679 0.61506845 0.03805719\n",
            " 0.16199842 0.68312165 0.42457115 0.98036678]\n",
            "\n",
            "Форма початкового вектора: (10,)\n",
            "\n",
            "Вектор після використання numpy.expand_dims:\n",
            "[[0.81085178]\n",
            " [0.29118046]\n",
            " [0.94022156]\n",
            " [0.23134679]\n",
            " [0.61506845]\n",
            " [0.03805719]\n",
            " [0.16199842]\n",
            " [0.68312165]\n",
            " [0.42457115]\n",
            " [0.98036678]]\n",
            "\n",
            "Форма вектора після використання numpy.expand_dims: (10, 1)\n"
          ]
        }
      ]
    },
    {
      "cell_type": "code",
      "source": [
        "transposed_column_vector = column_vector.T\n",
        "print(\"Транспонований column_vector:\")\n",
        "print(transposed_column_vector)\n",
        "print(\"\\nФорма транспонованого column_vector:\", transposed_column_vector.shape)"
      ],
      "metadata": {
        "colab": {
          "base_uri": "https://localhost:8080/"
        },
        "id": "j2ccXFriAmcE",
        "outputId": "b56833c2-3976-4ef8-9e2e-c4c11dd65f64"
      },
      "execution_count": null,
      "outputs": [
        {
          "output_type": "stream",
          "name": "stdout",
          "text": [
            "Транспонований column_vector:\n",
            "[[0.81085178 0.29118046 0.94022156 0.23134679 0.61506845 0.03805719\n",
            "  0.16199842 0.68312165 0.42457115 0.98036678]]\n",
            "\n",
            "Форма транспонованого column_vector: (1, 10)\n"
          ]
        }
      ]
    }
  ]
}